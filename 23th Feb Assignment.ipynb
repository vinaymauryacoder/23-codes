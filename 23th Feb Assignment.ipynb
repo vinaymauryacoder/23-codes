{
 "cells": [
  {
   "cell_type": "code",
   "execution_count": null,
   "id": "c77d04ba",
   "metadata": {},
   "outputs": [],
   "source": [
    "Q1. Create a Pandas Series that contains the following data: 4, 8, 15, 16, 23, and 42. Then, print the series."
   ]
  },
  {
   "cell_type": "code",
   "execution_count": 1,
   "id": "24644eb4",
   "metadata": {},
   "outputs": [
    {
     "name": "stdout",
     "output_type": "stream",
     "text": [
      "0     4\n",
      "1     8\n",
      "2    15\n",
      "3    16\n",
      "4    23\n",
      "5    42\n",
      "dtype: int64\n"
     ]
    }
   ],
   "source": [
    "import pandas as pd\n",
    "data = [4, 8, 15, 16, 23, 42]\n",
    "series = pd.Series(data)\n",
    "print(series)\n"
   ]
  },
  {
   "cell_type": "code",
   "execution_count": null,
   "id": "09d43575",
   "metadata": {},
   "outputs": [],
   "source": [
    "Q2. Create a variable of list type containing 10 elements in it, and apply pandas.Series function on the\n",
    "variable print it."
   ]
  },
  {
   "cell_type": "code",
   "execution_count": null,
   "id": "bb35cced",
   "metadata": {},
   "outputs": [],
   "source": [
    "import pandas as pd\n",
    "\n",
    "my_list = [10, 20, 30, 40, 50, 60, 70, 80, 90, 100]\n",
    "\n",
    "my_series = pd.Series(my_list)\n",
    "\n",
    "print(my_series)\n"
   ]
  },
  {
   "cell_type": "code",
   "execution_count": 2,
   "id": "0abd3e3a",
   "metadata": {},
   "outputs": [
    {
     "name": "stdout",
     "output_type": "stream",
     "text": [
      "      name  age  Gender\n",
      "0    Alice   25  Female\n",
      "1      Bob   30    Male\n",
      "2  Charlie   27  Female\n"
     ]
    }
   ],
   "source": [
    "# ANSWER 3 :-\n",
    "\n",
    "import pandas as pd\n",
    "\n",
    "data = {'name': ['Alice', 'Bob', 'Charlie'], 'age': [25, 30, 27], 'Gender': ['Female', 'Male', 'Female']}\n",
    "df = pd.DataFrame(data)\n",
    "print(df)\n"
   ]
  },
  {
   "cell_type": "code",
   "execution_count": null,
   "id": "31b56dc9",
   "metadata": {},
   "outputs": [],
   "source": [
    "Q4. What is ‘DataFrame’ in pandas and how is it different from pandas.series? Explain with an example."
   ]
  },
  {
   "cell_type": "code",
   "execution_count": null,
   "id": "59faadee",
   "metadata": {},
   "outputs": [],
   "source": [
    " A DataFrame is a two-dimensional tabular data structure in Pandas that can contain multiple rows and columns, while a Series\n",
    "    is a one-dimensional array-like object that can hold a data types like integers, strings, floats, . and a Series can \n",
    "    be thought of as a single column of data in a DataFrame."
   ]
  },
  {
   "cell_type": "code",
   "execution_count": 3,
   "id": "6974b98d",
   "metadata": {},
   "outputs": [
    {
     "name": "stdout",
     "output_type": "stream",
     "text": [
      "   numbers\n",
      "0        1\n",
      "1        2\n",
      "2        3\n",
      "3        4\n",
      "4        5\n"
     ]
    }
   ],
   "source": [
    "import pandas as pd\n",
    "\n",
    "# here Pandas Series\n",
    "series = pd.Series([1, 2, 3, 4, 5])\n",
    "\n",
    "# here Pandas DataFrame with the Series as one of its column\n",
    "df = pd.DataFrame({'numbers': series})\n",
    "\n",
    "print(df)\n"
   ]
  },
  {
   "cell_type": "code",
   "execution_count": null,
   "id": "755b0bba",
   "metadata": {},
   "outputs": [],
   "source": [
    "Q5. What are some common functions you can use to manipulate data in a Pandas DataFrame? Can\n",
    "you give an example of when you might use one of these functions?"
   ]
  },
  {
   "cell_type": "code",
   "execution_count": null,
   "id": "78e206ba",
   "metadata": {},
   "outputs": [],
   "source": [
    "head(): Returns the first 5 rows of the DataFrame .\n",
    "tail(): Returns the last 5 rows of the DataFrame .\n",
    "dtypes : Returns the type of data like (int , object(strings))\n",
    "drop(): Drops one or more rows or columns from the DataFrame.\n",
    "sort_values(): Sorts the DataFrame by one or more columns."
   ]
  },
  {
   "cell_type": "code",
   "execution_count": 4,
   "id": "196263e3",
   "metadata": {},
   "outputs": [
    {
     "name": "stdout",
     "output_type": "stream",
     "text": [
      "      name  age  Gender\n",
      "0    Alice   25  Female\n",
      "2  Charlie   27  Female\n",
      "1      Bob   30    Male\n"
     ]
    }
   ],
   "source": [
    "import pandas as pd\n",
    "\n",
    "data = {'name': ['Alice', 'Bob', 'Charlie'], 'age': [25, 30, 27], 'Gender': ['Female', 'Male', 'Female']}\n",
    "\n",
    "df = pd.DataFrame(data)\n",
    "\n",
    "\n",
    "df_sorted = df.sort_values(by='age')\n",
    "\n",
    "print(df_sorted)\n"
   ]
  },
  {
   "cell_type": "code",
   "execution_count": null,
   "id": "4029dbbc",
   "metadata": {},
   "outputs": [],
   "source": [
    "Q6. Which of the following is mutable in nature Series, DataFrame, Panel?"
   ]
  },
  {
   "cell_type": "code",
   "execution_count": null,
   "id": "aae93a76",
   "metadata": {},
   "outputs": [],
   "source": [
    "Mutable means that these objects can be modified in place of the values of the object can be changed without creating a \n",
    "new object.you can modify the values of a Series or DataFrame by assigning new values to their elements,\n",
    "columns, or rows."
   ]
  },
  {
   "cell_type": "code",
   "execution_count": null,
   "id": "56f83c2b",
   "metadata": {},
   "outputs": [],
   "source": []
  },
  {
   "cell_type": "code",
   "execution_count": 8,
   "id": "0edbfa4f",
   "metadata": {},
   "outputs": [
    {
     "name": "stdout",
     "output_type": "stream",
     "text": [
      "    Name  Age  Salary\n",
      "0  Rohan   32   55000\n",
      "1  Mohan   28   65000\n",
      "2  Sohan   45   80000\n",
      "3  Jayes   37   72000\n"
     ]
    }
   ],
   "source": [
    "import pandas as pd\n",
    "\n",
    "# here first series\n",
    "names = pd.Series(['Rohan', 'Mohan', 'Sohan', 'Jayes'])\n",
    "\n",
    "# here second series \n",
    "ages = pd.Series([32, 28, 45, 37])\n",
    "\n",
    "# here third series \n",
    "salaries = pd.Series([55000, 65000, 80000, 72000])\n",
    "\n",
    "data = {'Name': names, 'Age': ages, 'Salary': salaries}\n",
    "\n",
    "\n",
    "df = pd.DataFrame(data)\n",
    "\n",
    "print(df)\n"
   ]
  },
  {
   "cell_type": "code",
   "execution_count": 10,
   "id": "1804abeb",
   "metadata": {},
   "outputs": [
    {
     "name": "stdout",
     "output_type": "stream",
     "text": [
      "    Name  Age  Salary\n",
      "1  Mohan   28   65000\n",
      "0  Rohan   32   55000\n",
      "3  Jayes   37   72000\n",
      "2  Sohan   45   80000\n"
     ]
    }
   ],
   "source": [
    "df = pd.DataFrame(data)\n",
    "df_sorted = df.sort_values(by='Age')\n",
    "\n",
    "print(df_sorted)"
   ]
  },
  {
   "cell_type": "code",
   "execution_count": 11,
   "id": "bc568363",
   "metadata": {},
   "outputs": [
    {
     "name": "stdout",
     "output_type": "stream",
     "text": [
      "    Name  Age  Salary\n",
      "0  Rohan   32   55000\n",
      "1  Mohan   28   65000\n",
      "3  Jayes   37   72000\n",
      "2  Sohan   45   80000\n"
     ]
    }
   ],
   "source": [
    "df = pd.DataFrame(data)\n",
    "df_sorted = df.sort_values(by='Salary')\n",
    "\n",
    "print(df_sorted)"
   ]
  },
  {
   "cell_type": "code",
   "execution_count": null,
   "id": "b90148a7",
   "metadata": {},
   "outputs": [],
   "source": []
  }
 ],
 "metadata": {
  "kernelspec": {
   "display_name": "Python 3 (ipykernel)",
   "language": "python",
   "name": "python3"
  },
  "language_info": {
   "codemirror_mode": {
    "name": "ipython",
    "version": 3
   },
   "file_extension": ".py",
   "mimetype": "text/x-python",
   "name": "python",
   "nbconvert_exporter": "python",
   "pygments_lexer": "ipython3",
   "version": "3.9.13"
  }
 },
 "nbformat": 4,
 "nbformat_minor": 5
}
